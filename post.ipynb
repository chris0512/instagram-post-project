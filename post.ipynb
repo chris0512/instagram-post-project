{
 "cells": [
  {
   "cell_type": "code",
   "execution_count": 1,
   "metadata": {
    "collapsed": true
   },
   "outputs": [],
   "source": [
    "import getpass\n",
    "from instagrapi import Client"
   ]
  },
  {
   "cell_type": "code",
   "execution_count": 2,
   "outputs": [
    {
     "name": "stderr",
     "output_type": "stream",
     "text": [
      "Status 429: Too many requests\n",
      "Ignore 429: Continue login\n"
     ]
    },
    {
     "data": {
      "text/plain": "True"
     },
     "execution_count": 2,
     "metadata": {},
     "output_type": "execute_result"
    }
   ],
   "source": [
    "username = getpass.getpass('enter your username')\n",
    "password = getpass.getpass('enter your password')\n",
    "client = Client()\n",
    "\n",
    "client.login(username, password)"
   ],
   "metadata": {
    "collapsed": false
   }
  },
  {
   "cell_type": "code",
   "execution_count": 3,
   "outputs": [
    {
     "data": {
      "text/plain": "Media(pk='3046019870671269825', id='3046019870671269825_39996174208', code='CpFou8SJG_BhMp_KQflgI1E3jsX6GkRcnpIv580', taken_at=datetime.datetime(2023, 2, 25, 14, 4, 46, tzinfo=datetime.timezone.utc), media_type=1, product_type='feed', thumbnail_url=HttpUrl('https://instagram.ftpe14-1.fna.fbcdn.net/v/t51.2885-15/332714399_1055754025861346_698524066422134020_n.jpg?se=7&stp=cp6_dst-jpg_e35&efg=eyJybWQiOiJpZ19hbmRyb2lkX21vYmlsZV9uZXR3b3JrX3N0YWNrX3RpZ29uX21uc19ybWRfcmVkaXJlY3Q6dGlnb25fbW5zX3JtZF9ub19yZWRpcmVjdCJ9&_nc_ht=instagram.ftpe14-1.fna.fbcdn.net&_nc_cat=102&_nc_ohc=ICicE-vaAkMAX9zOwDD&edm=ACqnv0EBAAAA&ccb=7-5&ig_cache_key=MzA0NjAxOTg3MDY3MTI2OTgyNQ%3D%3D.2-ccb7-5&oh=00_AfBdk9YyXaWVfYUSF5d-GS8xm4jG30IR23J4pMBOMZauBA&oe=63FF1D1C&_nc_sid=9ec724', ), location=None, user=UserShort(pk='39996174208', username='chrisdevlife', full_name='Chris Kyang', profile_pic_url=HttpUrl('https://instagram.ftpe14-1.fna.fbcdn.net/v/t51.2885-19/332350217_231817962529385_8465610064541097827_n.jpg?stp=dst-jpg_s150x150&efg=eyJybWQiOiJpZ19hbmRyb2lkX21vYmlsZV9uZXR3b3JrX3N0YWNrX3RpZ29uX21uc19ybWRfcmVkaXJlY3Q6dGlnb25fbW5zX3JtZF9ub19yZWRpcmVjdCJ9&_nc_ht=instagram.ftpe14-1.fna.fbcdn.net&_nc_cat=105&_nc_ohc=iluKXoL6aNIAX-alOG4&edm=ACqnv0EBAAAA&ccb=7-5&oh=00_AfD6GIXE1l3tqidtdTSYKUCxDIEctXjvCdJNQbvh5cmG3g&oe=63FFE1C2&_nc_sid=9ec724', ), profile_pic_url_hd=None, is_private=True, stories=[]), comment_count=0, comments_disabled=False, like_count=0, play_count=0, has_liked=False, caption_text='This is the 2nd test post by instagrapi XD', accessibility_caption=None, usertags=[], sponsor_tags=[], video_url=None, view_count=0, video_duration=0.0, title='', resources=[], clips_metadata={})"
     },
     "execution_count": 3,
     "metadata": {},
     "output_type": "execute_result"
    }
   ],
   "source": [
    "img = \"hamster.jpg\"\n",
    "text = \"This is the 2nd test post by instagrapi XD\"\n",
    "client.photo_upload(img, text)"
   ],
   "metadata": {
    "collapsed": false
   }
  },
  {
   "cell_type": "code",
   "execution_count": 7,
   "outputs": [
    {
     "name": "stdout",
     "output_type": "stream",
     "text": [
      "3046019870671269825_39996174208\n"
     ]
    },
    {
     "data": {
      "text/plain": "True"
     },
     "execution_count": 7,
     "metadata": {},
     "output_type": "execute_result"
    }
   ],
   "source": [
    "# get a list of your own posts\n",
    "user_id = client.user_id_from_username(\"chrisdevlife\")\n",
    "\n",
    "# extract the media_id from the first post in the list\n",
    "recent_posts = client.user_medias(user_id)\n",
    "for post in recent_posts:\n",
    "    media_id = post.id\n",
    "    print(media_id)\n",
    "\n",
    "client.media_like(media_id)"
   ],
   "metadata": {
    "collapsed": false
   }
  },
  {
   "cell_type": "code",
   "execution_count": null,
   "outputs": [],
   "source": [],
   "metadata": {
    "collapsed": false
   }
  }
 ],
 "metadata": {
  "kernelspec": {
   "display_name": "Python 3",
   "language": "python",
   "name": "python3"
  },
  "language_info": {
   "codemirror_mode": {
    "name": "ipython",
    "version": 2
   },
   "file_extension": ".py",
   "mimetype": "text/x-python",
   "name": "python",
   "nbconvert_exporter": "python",
   "pygments_lexer": "ipython2",
   "version": "2.7.6"
  }
 },
 "nbformat": 4,
 "nbformat_minor": 0
}
